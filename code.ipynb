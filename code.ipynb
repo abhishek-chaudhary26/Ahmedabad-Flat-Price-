{
  "cells": [
    {
      "cell_type": "markdown",
      "metadata": {
        "id": "view-in-github",
        "colab_type": "text"
      },
      "source": [
        "<a href=\"https://colab.research.google.com/github/abhishek-chaudhary26/Ahmedabad-Flat-Price-/blob/main/code.ipynb\" target=\"_parent\"><img src=\"https://colab.research.google.com/assets/colab-badge.svg\" alt=\"Open In Colab\"/></a>"
      ]
    },
    {
      "cell_type": "code",
      "execution_count": 2,
      "metadata": {
        "_cell_guid": "b1076dfc-b9ad-4769-8c92-a6c4dae69d19",
        "_uuid": "8f2839f25d086af736a60e9eeb907d3b93b6e0e5",
        "id": "oXOZEVDj0u_b"
      },
      "outputs": [],
      "source": [
        "# importing some libs so that we can work with data easily :)\n",
        "import pandas as pd\n",
        "import numpy as np\n",
        "import seaborn as sn"
      ]
    },
    {
      "cell_type": "code",
      "source": [
        "url = 'https://raw.githubusercontent.com/abhishek-chaudhary26/Ahmedabad-Flat-Price-/refs/heads/main/dataset/ahmedabad.csv'"
      ],
      "metadata": {
        "id": "Bc75kM0x1caE"
      },
      "execution_count": 3,
      "outputs": []
    },
    {
      "cell_type": "code",
      "execution_count": 4,
      "metadata": {
        "id": "OLLnJtdN0u_f"
      },
      "outputs": [],
      "source": [
        "# reading the csv file by using pandas :)\n",
        "df = pd.read_csv(url)"
      ]
    },
    {
      "cell_type": "code",
      "execution_count": 5,
      "metadata": {
        "id": "AbdlPzmL0u_g",
        "outputId": "946243d3-9565-43b1-c7e3-ab5a7e3a9562",
        "colab": {
          "base_uri": "https://localhost:8080/",
          "height": 363
        }
      },
      "outputs": [
        {
          "output_type": "execute_result",
          "data": {
            "text/plain": [
              "   Unnamed: 0                                              Title    type_area  \\\n",
              "0           0  2 BHK Apartment for Sale in Vivaan Aura, Zunda...   Super Area   \n",
              "1           1  2 BHK Apartment for Sale in SP Epitome, Shela ...  Carpet Area   \n",
              "2           2  2 BHK Apartment for Sale in Pacifica Amara, Sa...  Carpet Area   \n",
              "3           3  2 BHK Apartment for Sale in Kavisha AER, Shela...  Carpet Area   \n",
              "4           4  2 BHK Apartment for Sale in Aarambh Vistara, G...  Carpet Area   \n",
              "5           5  2 BHK Apartment for Sale in Vivaan Essence, Zu...   Super Area   \n",
              "6           6  2 BHK Apartment for Sale in Kavisha AER, Shela...  Carpet Area   \n",
              "7           7  2 BHK Apartment for Sale in Vivaan Aura, Zunda...  Carpet Area   \n",
              "8           8  2 BHK Apartment for Sale in Kavisha Atria, She...  Carpet Area   \n",
              "9           9  2 BHK Apartment for Sale in Sun Parkwest, Shel...  Carpet Area   \n",
              "\n",
              "  value_area            status         floor   transaction       furnishing  \\\n",
              "0  155 sqyrd  Poss. by Dec '26  New Property   Unfurnished      Vivaan Aura   \n",
              "1   710 sqft  Poss. by Jun '27  New Property   Unfurnished       SP Epitome   \n",
              "2   588 sqft  Poss. by Dec '25  New Property   Unfurnished   Pacifica Amara   \n",
              "3   687 sqft  Poss. by Jun '26  New Property   Unfurnished      Kavisha AER   \n",
              "4   621 sqft  Poss. by Mar '25  New Property   Unfurnished  Aarambh Vistara   \n",
              "5  1413 sqft  Poss. by Jun '26  New Property   Unfurnished   Vivaan Essence   \n",
              "6   700 sqft  Poss. by Dec '25   7 out of 14  New Property      Unfurnished   \n",
              "7   85 sqyrd  Poss. by Jun '26  11 out of 14  New Property      Unfurnished   \n",
              "8   655 sqft  Poss. by Jul '24  New Property   Unfurnished     North - East   \n",
              "9   676 sqft  Poss. by Jul '26   5 out of 14  New Property      Unfurnished   \n",
              "\n",
              "        facing         price          price_sqft  \\\n",
              "0            2  â‚¹48.1 Lac   â‚¹3,444 per sqft    \n",
              "1            2    â‚¹50 Lac   â‚¹3,876 per sqft    \n",
              "2            2    â‚¹40 Lac   â‚¹3,738 per sqft    \n",
              "3            2  â‚¹48.8 Lac   â‚¹3,900 per sqft    \n",
              "4            2    â‚¹48 Lac   â‚¹4,248 per sqft    \n",
              "5    1 Covered  â‚¹49.9 Lac   â‚¹3,533 per sqft    \n",
              "6         East  â‚¹49.1 Lac   â‚¹3,900 per sqft    \n",
              "7         East  â‚¹48.4 Lac   â‚¹3,444 per sqft    \n",
              "8  Garden/Park  â‚¹45.2 Lac   â‚¹4,000 per sqft    \n",
              "9         East  â‚¹42.6 Lac   â‚¹3,300 per sqft    \n",
              "\n",
              "                                         description  \n",
              "0  Multistorey Apartment for Sale in Zundal, Ahme...  \n",
              "1  Multistorey Apartment for Sale in Shela, Ahmed...  \n",
              "2  Multistorey Apartment for Sale in Sanand, Ahme...  \n",
              "3  Multistorey Apartment for Sale in Shela, Ahmed...  \n",
              "4  Multistorey Apartment for Sale in Gota, Ahmeda...  \n",
              "5                                                NaN  \n",
              "6  Prime Location in Shela, Nice Locality  Easily...  \n",
              "7  To gain an overview of the house structure, it...  \n",
              "8  Kavisha Atrias Architectural design effortless...  \n",
              "9  Sun Parkwest is a well designed project by Sun...  "
            ],
            "text/html": [
              "\n",
              "  <div id=\"df-d64ca070-55b7-481f-a9cc-37e57982ab18\" class=\"colab-df-container\">\n",
              "    <div>\n",
              "<style scoped>\n",
              "    .dataframe tbody tr th:only-of-type {\n",
              "        vertical-align: middle;\n",
              "    }\n",
              "\n",
              "    .dataframe tbody tr th {\n",
              "        vertical-align: top;\n",
              "    }\n",
              "\n",
              "    .dataframe thead th {\n",
              "        text-align: right;\n",
              "    }\n",
              "</style>\n",
              "<table border=\"1\" class=\"dataframe\">\n",
              "  <thead>\n",
              "    <tr style=\"text-align: right;\">\n",
              "      <th></th>\n",
              "      <th>Unnamed: 0</th>\n",
              "      <th>Title</th>\n",
              "      <th>type_area</th>\n",
              "      <th>value_area</th>\n",
              "      <th>status</th>\n",
              "      <th>floor</th>\n",
              "      <th>transaction</th>\n",
              "      <th>furnishing</th>\n",
              "      <th>facing</th>\n",
              "      <th>price</th>\n",
              "      <th>price_sqft</th>\n",
              "      <th>description</th>\n",
              "    </tr>\n",
              "  </thead>\n",
              "  <tbody>\n",
              "    <tr>\n",
              "      <th>0</th>\n",
              "      <td>0</td>\n",
              "      <td>2 BHK Apartment for Sale in Vivaan Aura, Zunda...</td>\n",
              "      <td>Super Area</td>\n",
              "      <td>155 sqyrd</td>\n",
              "      <td>Poss. by Dec '26</td>\n",
              "      <td>New Property</td>\n",
              "      <td>Unfurnished</td>\n",
              "      <td>Vivaan Aura</td>\n",
              "      <td>2</td>\n",
              "      <td>â‚¹48.1 Lac</td>\n",
              "      <td>â‚¹3,444 per sqft</td>\n",
              "      <td>Multistorey Apartment for Sale in Zundal, Ahme...</td>\n",
              "    </tr>\n",
              "    <tr>\n",
              "      <th>1</th>\n",
              "      <td>1</td>\n",
              "      <td>2 BHK Apartment for Sale in SP Epitome, Shela ...</td>\n",
              "      <td>Carpet Area</td>\n",
              "      <td>710 sqft</td>\n",
              "      <td>Poss. by Jun '27</td>\n",
              "      <td>New Property</td>\n",
              "      <td>Unfurnished</td>\n",
              "      <td>SP Epitome</td>\n",
              "      <td>2</td>\n",
              "      <td>â‚¹50 Lac</td>\n",
              "      <td>â‚¹3,876 per sqft</td>\n",
              "      <td>Multistorey Apartment for Sale in Shela, Ahmed...</td>\n",
              "    </tr>\n",
              "    <tr>\n",
              "      <th>2</th>\n",
              "      <td>2</td>\n",
              "      <td>2 BHK Apartment for Sale in Pacifica Amara, Sa...</td>\n",
              "      <td>Carpet Area</td>\n",
              "      <td>588 sqft</td>\n",
              "      <td>Poss. by Dec '25</td>\n",
              "      <td>New Property</td>\n",
              "      <td>Unfurnished</td>\n",
              "      <td>Pacifica Amara</td>\n",
              "      <td>2</td>\n",
              "      <td>â‚¹40 Lac</td>\n",
              "      <td>â‚¹3,738 per sqft</td>\n",
              "      <td>Multistorey Apartment for Sale in Sanand, Ahme...</td>\n",
              "    </tr>\n",
              "    <tr>\n",
              "      <th>3</th>\n",
              "      <td>3</td>\n",
              "      <td>2 BHK Apartment for Sale in Kavisha AER, Shela...</td>\n",
              "      <td>Carpet Area</td>\n",
              "      <td>687 sqft</td>\n",
              "      <td>Poss. by Jun '26</td>\n",
              "      <td>New Property</td>\n",
              "      <td>Unfurnished</td>\n",
              "      <td>Kavisha AER</td>\n",
              "      <td>2</td>\n",
              "      <td>â‚¹48.8 Lac</td>\n",
              "      <td>â‚¹3,900 per sqft</td>\n",
              "      <td>Multistorey Apartment for Sale in Shela, Ahmed...</td>\n",
              "    </tr>\n",
              "    <tr>\n",
              "      <th>4</th>\n",
              "      <td>4</td>\n",
              "      <td>2 BHK Apartment for Sale in Aarambh Vistara, G...</td>\n",
              "      <td>Carpet Area</td>\n",
              "      <td>621 sqft</td>\n",
              "      <td>Poss. by Mar '25</td>\n",
              "      <td>New Property</td>\n",
              "      <td>Unfurnished</td>\n",
              "      <td>Aarambh Vistara</td>\n",
              "      <td>2</td>\n",
              "      <td>â‚¹48 Lac</td>\n",
              "      <td>â‚¹4,248 per sqft</td>\n",
              "      <td>Multistorey Apartment for Sale in Gota, Ahmeda...</td>\n",
              "    </tr>\n",
              "    <tr>\n",
              "      <th>5</th>\n",
              "      <td>5</td>\n",
              "      <td>2 BHK Apartment for Sale in Vivaan Essence, Zu...</td>\n",
              "      <td>Super Area</td>\n",
              "      <td>1413 sqft</td>\n",
              "      <td>Poss. by Jun '26</td>\n",
              "      <td>New Property</td>\n",
              "      <td>Unfurnished</td>\n",
              "      <td>Vivaan Essence</td>\n",
              "      <td>1 Covered</td>\n",
              "      <td>â‚¹49.9 Lac</td>\n",
              "      <td>â‚¹3,533 per sqft</td>\n",
              "      <td>NaN</td>\n",
              "    </tr>\n",
              "    <tr>\n",
              "      <th>6</th>\n",
              "      <td>6</td>\n",
              "      <td>2 BHK Apartment for Sale in Kavisha AER, Shela...</td>\n",
              "      <td>Carpet Area</td>\n",
              "      <td>700 sqft</td>\n",
              "      <td>Poss. by Dec '25</td>\n",
              "      <td>7 out of 14</td>\n",
              "      <td>New Property</td>\n",
              "      <td>Unfurnished</td>\n",
              "      <td>East</td>\n",
              "      <td>â‚¹49.1 Lac</td>\n",
              "      <td>â‚¹3,900 per sqft</td>\n",
              "      <td>Prime Location in Shela, Nice Locality  Easily...</td>\n",
              "    </tr>\n",
              "    <tr>\n",
              "      <th>7</th>\n",
              "      <td>7</td>\n",
              "      <td>2 BHK Apartment for Sale in Vivaan Aura, Zunda...</td>\n",
              "      <td>Carpet Area</td>\n",
              "      <td>85 sqyrd</td>\n",
              "      <td>Poss. by Jun '26</td>\n",
              "      <td>11 out of 14</td>\n",
              "      <td>New Property</td>\n",
              "      <td>Unfurnished</td>\n",
              "      <td>East</td>\n",
              "      <td>â‚¹48.4 Lac</td>\n",
              "      <td>â‚¹3,444 per sqft</td>\n",
              "      <td>To gain an overview of the house structure, it...</td>\n",
              "    </tr>\n",
              "    <tr>\n",
              "      <th>8</th>\n",
              "      <td>8</td>\n",
              "      <td>2 BHK Apartment for Sale in Kavisha Atria, She...</td>\n",
              "      <td>Carpet Area</td>\n",
              "      <td>655 sqft</td>\n",
              "      <td>Poss. by Jul '24</td>\n",
              "      <td>New Property</td>\n",
              "      <td>Unfurnished</td>\n",
              "      <td>North - East</td>\n",
              "      <td>Garden/Park</td>\n",
              "      <td>â‚¹45.2 Lac</td>\n",
              "      <td>â‚¹4,000 per sqft</td>\n",
              "      <td>Kavisha Atrias Architectural design effortless...</td>\n",
              "    </tr>\n",
              "    <tr>\n",
              "      <th>9</th>\n",
              "      <td>9</td>\n",
              "      <td>2 BHK Apartment for Sale in Sun Parkwest, Shel...</td>\n",
              "      <td>Carpet Area</td>\n",
              "      <td>676 sqft</td>\n",
              "      <td>Poss. by Jul '26</td>\n",
              "      <td>5 out of 14</td>\n",
              "      <td>New Property</td>\n",
              "      <td>Unfurnished</td>\n",
              "      <td>East</td>\n",
              "      <td>â‚¹42.6 Lac</td>\n",
              "      <td>â‚¹3,300 per sqft</td>\n",
              "      <td>Sun Parkwest is a well designed project by Sun...</td>\n",
              "    </tr>\n",
              "  </tbody>\n",
              "</table>\n",
              "</div>\n",
              "    <div class=\"colab-df-buttons\">\n",
              "\n",
              "  <div class=\"colab-df-container\">\n",
              "    <button class=\"colab-df-convert\" onclick=\"convertToInteractive('df-d64ca070-55b7-481f-a9cc-37e57982ab18')\"\n",
              "            title=\"Convert this dataframe to an interactive table.\"\n",
              "            style=\"display:none;\">\n",
              "\n",
              "  <svg xmlns=\"http://www.w3.org/2000/svg\" height=\"24px\" viewBox=\"0 -960 960 960\">\n",
              "    <path d=\"M120-120v-720h720v720H120Zm60-500h600v-160H180v160Zm220 220h160v-160H400v160Zm0 220h160v-160H400v160ZM180-400h160v-160H180v160Zm440 0h160v-160H620v160ZM180-180h160v-160H180v160Zm440 0h160v-160H620v160Z\"/>\n",
              "  </svg>\n",
              "    </button>\n",
              "\n",
              "  <style>\n",
              "    .colab-df-container {\n",
              "      display:flex;\n",
              "      gap: 12px;\n",
              "    }\n",
              "\n",
              "    .colab-df-convert {\n",
              "      background-color: #E8F0FE;\n",
              "      border: none;\n",
              "      border-radius: 50%;\n",
              "      cursor: pointer;\n",
              "      display: none;\n",
              "      fill: #1967D2;\n",
              "      height: 32px;\n",
              "      padding: 0 0 0 0;\n",
              "      width: 32px;\n",
              "    }\n",
              "\n",
              "    .colab-df-convert:hover {\n",
              "      background-color: #E2EBFA;\n",
              "      box-shadow: 0px 1px 2px rgba(60, 64, 67, 0.3), 0px 1px 3px 1px rgba(60, 64, 67, 0.15);\n",
              "      fill: #174EA6;\n",
              "    }\n",
              "\n",
              "    .colab-df-buttons div {\n",
              "      margin-bottom: 4px;\n",
              "    }\n",
              "\n",
              "    [theme=dark] .colab-df-convert {\n",
              "      background-color: #3B4455;\n",
              "      fill: #D2E3FC;\n",
              "    }\n",
              "\n",
              "    [theme=dark] .colab-df-convert:hover {\n",
              "      background-color: #434B5C;\n",
              "      box-shadow: 0px 1px 3px 1px rgba(0, 0, 0, 0.15);\n",
              "      filter: drop-shadow(0px 1px 2px rgba(0, 0, 0, 0.3));\n",
              "      fill: #FFFFFF;\n",
              "    }\n",
              "  </style>\n",
              "\n",
              "    <script>\n",
              "      const buttonEl =\n",
              "        document.querySelector('#df-d64ca070-55b7-481f-a9cc-37e57982ab18 button.colab-df-convert');\n",
              "      buttonEl.style.display =\n",
              "        google.colab.kernel.accessAllowed ? 'block' : 'none';\n",
              "\n",
              "      async function convertToInteractive(key) {\n",
              "        const element = document.querySelector('#df-d64ca070-55b7-481f-a9cc-37e57982ab18');\n",
              "        const dataTable =\n",
              "          await google.colab.kernel.invokeFunction('convertToInteractive',\n",
              "                                                    [key], {});\n",
              "        if (!dataTable) return;\n",
              "\n",
              "        const docLinkHtml = 'Like what you see? Visit the ' +\n",
              "          '<a target=\"_blank\" href=https://colab.research.google.com/notebooks/data_table.ipynb>data table notebook</a>'\n",
              "          + ' to learn more about interactive tables.';\n",
              "        element.innerHTML = '';\n",
              "        dataTable['output_type'] = 'display_data';\n",
              "        await google.colab.output.renderOutput(dataTable, element);\n",
              "        const docLink = document.createElement('div');\n",
              "        docLink.innerHTML = docLinkHtml;\n",
              "        element.appendChild(docLink);\n",
              "      }\n",
              "    </script>\n",
              "  </div>\n",
              "\n",
              "\n",
              "<div id=\"df-2c927a0c-be43-4504-87f8-fc6bdf64b719\">\n",
              "  <button class=\"colab-df-quickchart\" onclick=\"quickchart('df-2c927a0c-be43-4504-87f8-fc6bdf64b719')\"\n",
              "            title=\"Suggest charts\"\n",
              "            style=\"display:none;\">\n",
              "\n",
              "<svg xmlns=\"http://www.w3.org/2000/svg\" height=\"24px\"viewBox=\"0 0 24 24\"\n",
              "     width=\"24px\">\n",
              "    <g>\n",
              "        <path d=\"M19 3H5c-1.1 0-2 .9-2 2v14c0 1.1.9 2 2 2h14c1.1 0 2-.9 2-2V5c0-1.1-.9-2-2-2zM9 17H7v-7h2v7zm4 0h-2V7h2v10zm4 0h-2v-4h2v4z\"/>\n",
              "    </g>\n",
              "</svg>\n",
              "  </button>\n",
              "\n",
              "<style>\n",
              "  .colab-df-quickchart {\n",
              "      --bg-color: #E8F0FE;\n",
              "      --fill-color: #1967D2;\n",
              "      --hover-bg-color: #E2EBFA;\n",
              "      --hover-fill-color: #174EA6;\n",
              "      --disabled-fill-color: #AAA;\n",
              "      --disabled-bg-color: #DDD;\n",
              "  }\n",
              "\n",
              "  [theme=dark] .colab-df-quickchart {\n",
              "      --bg-color: #3B4455;\n",
              "      --fill-color: #D2E3FC;\n",
              "      --hover-bg-color: #434B5C;\n",
              "      --hover-fill-color: #FFFFFF;\n",
              "      --disabled-bg-color: #3B4455;\n",
              "      --disabled-fill-color: #666;\n",
              "  }\n",
              "\n",
              "  .colab-df-quickchart {\n",
              "    background-color: var(--bg-color);\n",
              "    border: none;\n",
              "    border-radius: 50%;\n",
              "    cursor: pointer;\n",
              "    display: none;\n",
              "    fill: var(--fill-color);\n",
              "    height: 32px;\n",
              "    padding: 0;\n",
              "    width: 32px;\n",
              "  }\n",
              "\n",
              "  .colab-df-quickchart:hover {\n",
              "    background-color: var(--hover-bg-color);\n",
              "    box-shadow: 0 1px 2px rgba(60, 64, 67, 0.3), 0 1px 3px 1px rgba(60, 64, 67, 0.15);\n",
              "    fill: var(--button-hover-fill-color);\n",
              "  }\n",
              "\n",
              "  .colab-df-quickchart-complete:disabled,\n",
              "  .colab-df-quickchart-complete:disabled:hover {\n",
              "    background-color: var(--disabled-bg-color);\n",
              "    fill: var(--disabled-fill-color);\n",
              "    box-shadow: none;\n",
              "  }\n",
              "\n",
              "  .colab-df-spinner {\n",
              "    border: 2px solid var(--fill-color);\n",
              "    border-color: transparent;\n",
              "    border-bottom-color: var(--fill-color);\n",
              "    animation:\n",
              "      spin 1s steps(1) infinite;\n",
              "  }\n",
              "\n",
              "  @keyframes spin {\n",
              "    0% {\n",
              "      border-color: transparent;\n",
              "      border-bottom-color: var(--fill-color);\n",
              "      border-left-color: var(--fill-color);\n",
              "    }\n",
              "    20% {\n",
              "      border-color: transparent;\n",
              "      border-left-color: var(--fill-color);\n",
              "      border-top-color: var(--fill-color);\n",
              "    }\n",
              "    30% {\n",
              "      border-color: transparent;\n",
              "      border-left-color: var(--fill-color);\n",
              "      border-top-color: var(--fill-color);\n",
              "      border-right-color: var(--fill-color);\n",
              "    }\n",
              "    40% {\n",
              "      border-color: transparent;\n",
              "      border-right-color: var(--fill-color);\n",
              "      border-top-color: var(--fill-color);\n",
              "    }\n",
              "    60% {\n",
              "      border-color: transparent;\n",
              "      border-right-color: var(--fill-color);\n",
              "    }\n",
              "    80% {\n",
              "      border-color: transparent;\n",
              "      border-right-color: var(--fill-color);\n",
              "      border-bottom-color: var(--fill-color);\n",
              "    }\n",
              "    90% {\n",
              "      border-color: transparent;\n",
              "      border-bottom-color: var(--fill-color);\n",
              "    }\n",
              "  }\n",
              "</style>\n",
              "\n",
              "  <script>\n",
              "    async function quickchart(key) {\n",
              "      const quickchartButtonEl =\n",
              "        document.querySelector('#' + key + ' button');\n",
              "      quickchartButtonEl.disabled = true;  // To prevent multiple clicks.\n",
              "      quickchartButtonEl.classList.add('colab-df-spinner');\n",
              "      try {\n",
              "        const charts = await google.colab.kernel.invokeFunction(\n",
              "            'suggestCharts', [key], {});\n",
              "      } catch (error) {\n",
              "        console.error('Error during call to suggestCharts:', error);\n",
              "      }\n",
              "      quickchartButtonEl.classList.remove('colab-df-spinner');\n",
              "      quickchartButtonEl.classList.add('colab-df-quickchart-complete');\n",
              "    }\n",
              "    (() => {\n",
              "      let quickchartButtonEl =\n",
              "        document.querySelector('#df-2c927a0c-be43-4504-87f8-fc6bdf64b719 button');\n",
              "      quickchartButtonEl.style.display =\n",
              "        google.colab.kernel.accessAllowed ? 'block' : 'none';\n",
              "    })();\n",
              "  </script>\n",
              "</div>\n",
              "\n",
              "    </div>\n",
              "  </div>\n"
            ],
            "application/vnd.google.colaboratory.intrinsic+json": {
              "type": "dataframe",
              "variable_name": "df",
              "summary": "{\n  \"name\": \"df\",\n  \"rows\": 6853,\n  \"fields\": [\n    {\n      \"column\": \"Unnamed: 0\",\n      \"properties\": {\n        \"dtype\": \"number\",\n        \"std\": 1978,\n        \"min\": 0,\n        \"max\": 6852,\n        \"num_unique_values\": 6853,\n        \"samples\": [\n          469,\n          3855,\n          4776\n        ],\n        \"semantic_type\": \"\",\n        \"description\": \"\"\n      }\n    },\n    {\n      \"column\": \"Title\",\n      \"properties\": {\n        \"dtype\": \"category\",\n        \"num_unique_values\": 2876,\n        \"samples\": [\n          \"2 BHK Apartment for Sale in Kansas County, Vastral Ahmedabad\",\n          \"3 BHK Apartment for Sale in Shree Narayan Exotica, Gurukul Road Ahmedabad\",\n          \"2 BHK Apartment for Sale in keshar samruddham, Khodiyar Ahmedabad\"\n        ],\n        \"semantic_type\": \"\",\n        \"description\": \"\"\n      }\n    },\n    {\n      \"column\": \"type_area\",\n      \"properties\": {\n        \"dtype\": \"category\",\n        \"num_unique_values\": 6,\n        \"samples\": [\n          \"Super Area\",\n          \"Carpet Area\",\n          \"Under Construction\"\n        ],\n        \"semantic_type\": \"\",\n        \"description\": \"\"\n      }\n    },\n    {\n      \"column\": \"value_area\",\n      \"properties\": {\n        \"dtype\": \"category\",\n        \"num_unique_values\": 2097,\n        \"samples\": [\n          \"605 sqft\",\n          \"1506 sqft\",\n          \"235 sqyrd\"\n        ],\n        \"semantic_type\": \"\",\n        \"description\": \"\"\n      }\n    },\n    {\n      \"column\": \"status\",\n      \"properties\": {\n        \"dtype\": \"category\",\n        \"num_unique_values\": 128,\n        \"samples\": [\n          \"Poss. by Oct '26\",\n          \"9 out of 14\",\n          \"Poss. by Nov '25\"\n        ],\n        \"semantic_type\": \"\",\n        \"description\": \"\"\n      }\n    },\n    {\n      \"column\": \"floor\",\n      \"properties\": {\n        \"dtype\": \"category\",\n        \"num_unique_values\": 502,\n        \"samples\": [\n          \"2 out of 15\",\n          \"2 out of 2\",\n          \"12 out of 32\"\n        ],\n        \"semantic_type\": \"\",\n        \"description\": \"\"\n      }\n    },\n    {\n      \"column\": \"transaction\",\n      \"properties\": {\n        \"dtype\": \"category\",\n        \"num_unique_values\": 30,\n        \"samples\": [\n          \"The Indus\",\n          \"Freehold\",\n          \"14 Covered\"\n        ],\n        \"semantic_type\": \"\",\n        \"description\": \"\"\n      }\n    },\n    {\n      \"column\": \"furnishing\",\n      \"properties\": {\n        \"dtype\": \"category\",\n        \"num_unique_values\": 132,\n        \"samples\": [\n          \"Pearl Heights\",\n          \"Ideal Imbert\",\n          \"Aryaman Heights\"\n        ],\n        \"semantic_type\": \"\",\n        \"description\": \"\"\n      }\n    },\n    {\n      \"column\": \"facing\",\n      \"properties\": {\n        \"dtype\": \"category\",\n        \"num_unique_values\": 475,\n        \"samples\": [\n          \"5\",\n          \"SKYVILLE\",\n          \"1\"\n        ],\n        \"semantic_type\": \"\",\n        \"description\": \"\"\n      }\n    },\n    {\n      \"column\": \"price\",\n      \"properties\": {\n        \"dtype\": \"category\",\n        \"num_unique_values\": 910,\n        \"samples\": [\n          \"\\u00e2\\u201a\\u00b96.55 Cr \",\n          \"\\u20b91.69 Cr \",\n          \"\\u20b91.58 Cr \"\n        ],\n        \"semantic_type\": \"\",\n        \"description\": \"\"\n      }\n    },\n    {\n      \"column\": \"price_sqft\",\n      \"properties\": {\n        \"dtype\": \"category\",\n        \"num_unique_values\": 3275,\n        \"samples\": [\n          \"\\u20b95,837 per sqft \",\n          \"\\u00e2\\u201a\\u00b96,152 per sqft \",\n          \"\\u20b94,531 per sqft \"\n        ],\n        \"semantic_type\": \"\",\n        \"description\": \"\"\n      }\n    },\n    {\n      \"column\": \"description\",\n      \"properties\": {\n        \"dtype\": \"string\",\n        \"num_unique_values\": 3924,\n        \"samples\": [\n          \"Sheetal gharana is one of the most popular destination for buying apartments flats in ambli, ahmedabad west. You too can be a part of this society by purchasing this 6 bhk flat here. This is a northEastFacing property. The floor plan additionally contains 6 bedrooms, 6 bathrooms and more than 3 balconies. All in all, the flat is spread over a super built up area of 13380 sq.Ft. This flat is situated on the 13th floor of this 21 floors tall residential building. This residential flat is currently under construction and you can expect the possession of the same by december 2024.Read more\",\n          \"  Multistorey Apartment is located at the advantageous 4th floor in a tower of total 5 floors. The age of construction for this Multistorey Apartment is between 5 to 10 years. Read more\",\n          \"5 bhk flat available for sale in riviera majestica. It is on 20th floor garden side facing unit. For more details contact usRead more\"\n        ],\n        \"semantic_type\": \"\",\n        \"description\": \"\"\n      }\n    }\n  ]\n}"
            }
          },
          "metadata": {},
          "execution_count": 5
        }
      ],
      "source": [
        "# quick look into the data-set :)\n",
        "df.head(10)"
      ]
    },
    {
      "cell_type": "code",
      "execution_count": 6,
      "metadata": {
        "execution": {
          "iopub.execute_input": "2024-06-24T15:12:04.084682Z",
          "iopub.status.busy": "2024-06-24T15:12:04.084279Z",
          "iopub.status.idle": "2024-06-24T15:12:04.090886Z",
          "shell.execute_reply": "2024-06-24T15:12:04.089572Z",
          "shell.execute_reply.started": "2024-06-24T15:12:04.084651Z"
        },
        "id": "ANphdA_B0u_i",
        "outputId": "90b41d74-1cc0-4386-8079-e866ac18a56d",
        "colab": {
          "base_uri": "https://localhost:8080/"
        }
      },
      "outputs": [
        {
          "output_type": "stream",
          "name": "stdout",
          "text": [
            "This data-set has 6853 rows and 12 columns\n"
          ]
        }
      ],
      "source": [
        "# it is to check the no of rows and columns in the data-set :)\n",
        "x = df.shape\n",
        "print('This data-set has', x[0] , \"rows\" , 'and' ,x[-1] , \"columns\")"
      ]
    },
    {
      "cell_type": "code",
      "execution_count": 7,
      "metadata": {
        "execution": {
          "iopub.execute_input": "2024-06-24T15:17:50.751135Z",
          "iopub.status.busy": "2024-06-24T15:17:50.750748Z",
          "iopub.status.idle": "2024-06-24T15:17:50.757482Z",
          "shell.execute_reply": "2024-06-24T15:17:50.756331Z",
          "shell.execute_reply.started": "2024-06-24T15:17:50.751103Z"
        },
        "id": "7_TnD3qU0u_i",
        "outputId": "abfbcfab-9e06-4665-a81d-fceed5e21ddd",
        "colab": {
          "base_uri": "https://localhost:8080/"
        }
      },
      "outputs": [
        {
          "output_type": "stream",
          "name": "stdout",
          "text": [
            "data type of the data present in the columns are give below\n",
            "\n",
            "Unnamed: 0      int64\n",
            "Title          object\n",
            "type_area      object\n",
            "value_area     object\n",
            "status         object\n",
            "floor          object\n",
            "transaction    object\n",
            "furnishing     object\n",
            "facing         object\n",
            "price          object\n",
            "price_sqft     object\n",
            "description    object\n",
            "dtype: object\n"
          ]
        }
      ],
      "source": [
        "# we can also need to check data type so there are some couple of ways for it w'll use .dtype method for now\n",
        "print('data type of the data present in the columns are give below')\n",
        "print('')\n",
        "print(df.dtypes)"
      ]
    },
    {
      "cell_type": "code",
      "execution_count": null,
      "metadata": {
        "id": "J6hwfpYk0u_k"
      },
      "outputs": [],
      "source": [
        "# now first let me delete one row which look useless :)\n"
      ]
    },
    {
      "cell_type": "code",
      "execution_count": null,
      "metadata": {
        "execution": {
          "iopub.execute_input": "2024-06-24T15:22:01.026210Z",
          "iopub.status.busy": "2024-06-24T15:22:01.025110Z",
          "iopub.status.idle": "2024-06-24T15:22:01.036228Z",
          "shell.execute_reply": "2024-06-24T15:22:01.035023Z",
          "shell.execute_reply.started": "2024-06-24T15:22:01.026167Z"
        },
        "id": "HRBgNVw40u_l",
        "outputId": "efcd254b-9234-4645-d03e-cb0c308075f7"
      },
      "outputs": [
        {
          "data": {
            "text/plain": [
              "<bound method Series.unique of 0       2 BHK Apartment for Sale in Vivaan Aura, Zunda...\n",
              "1       2 BHK Apartment for Sale in SP Epitome, Shela ...\n",
              "2       2 BHK Apartment for Sale in Pacifica Amara, Sa...\n",
              "3       2 BHK Apartment for Sale in Kavisha AER, Shela...\n",
              "4       2 BHK Apartment for Sale in Aarambh Vistara, G...\n",
              "                              ...                        \n",
              "6848    4 BHK Apartment for Sale in Skydeck Seasons, T...\n",
              "6849    4 BHK Apartment for Sale in TIMES 104, Gulmoha...\n",
              "6850    4 BHK Apartment for Sale in Westlands, Ambli A...\n",
              "6851    4 BHK Apartment for Sale in Sarkhej Gandhinaga...\n",
              "6852    5 BHK Apartment for Sale in Venus Pashmina, Bo...\n",
              "Name: Title, Length: 6853, dtype: object>"
            ]
          },
          "execution_count": 61,
          "metadata": {},
          "output_type": "execute_result"
        }
      ],
      "source": [
        "# lets see all the unique values present in the data-set\n"
      ]
    },
    {
      "cell_type": "code",
      "execution_count": null,
      "metadata": {
        "execution": {
          "iopub.execute_input": "2024-06-24T15:02:21.661122Z",
          "iopub.status.busy": "2024-06-24T15:02:21.660730Z",
          "iopub.status.idle": "2024-06-24T15:02:21.672882Z",
          "shell.execute_reply": "2024-06-24T15:02:21.671855Z",
          "shell.execute_reply.started": "2024-06-24T15:02:21.661087Z"
        },
        "id": "upkRmBNH0u_l",
        "outputId": "57da1784-037a-468b-971f-47928de3d5f3"
      },
      "outputs": [
        {
          "name": "stdout",
          "output_type": "stream",
          "text": [
            "missing values in data-set in '%'\n",
            "\n",
            "Unnamed: 0      0.000000\n",
            "Title           0.000000\n",
            "type_area       0.000000\n",
            "value_area      0.000000\n",
            "status          0.000000\n",
            "floor           0.116737\n",
            "transaction     0.306435\n",
            "furnishing      0.539910\n",
            "facing          1.298701\n",
            "price           0.000000\n",
            "price_sqft      6.537283\n",
            "description    25.769736\n",
            "dtype: float64\n"
          ]
        }
      ],
      "source": [
        "# missing values :)\n",
        "print(\"missing values in data-set in '%'\")\n",
        "print(\"\")\n",
        "print((df.isnull().mean())*100)"
      ]
    },
    {
      "cell_type": "code",
      "execution_count": null,
      "metadata": {
        "execution": {
          "iopub.execute_input": "2024-06-24T15:03:57.442460Z",
          "iopub.status.busy": "2024-06-24T15:03:57.442056Z",
          "iopub.status.idle": "2024-06-24T15:03:57.449631Z",
          "shell.execute_reply": "2024-06-24T15:03:57.448511Z",
          "shell.execute_reply.started": "2024-06-24T15:03:57.442428Z"
        },
        "id": "Q6WI7CTE0u_n",
        "outputId": "ab791bfe-eab6-4d59-ca4c-08ce6b678fa1"
      },
      "outputs": [
        {
          "data": {
            "text/plain": [
              "['Unnamed: 0',\n",
              " 'Title',\n",
              " 'type_area',\n",
              " 'value_area',\n",
              " 'status',\n",
              " 'floor',\n",
              " 'transaction',\n",
              " 'furnishing',\n",
              " 'facing',\n",
              " 'price',\n",
              " 'price_sqft',\n",
              " 'description']"
            ]
          },
          "execution_count": 33,
          "metadata": {},
          "output_type": "execute_result"
        }
      ],
      "source": [
        "# not so important but still if you want you can try storing name of fetaures in variable for record :)\n",
        "\n",
        "columns = list(df.columns)\n",
        "columns"
      ]
    },
    {
      "cell_type": "code",
      "execution_count": null,
      "metadata": {
        "id": "obBDdT0A0u_p"
      },
      "outputs": [],
      "source": [
        "df.info()"
      ]
    },
    {
      "cell_type": "code",
      "execution_count": null,
      "metadata": {
        "id": "NxaRMBRo0u_q"
      },
      "outputs": [],
      "source": []
    },
    {
      "cell_type": "code",
      "execution_count": null,
      "metadata": {
        "id": "sxRd6SLz0u_q"
      },
      "outputs": [],
      "source": [
        "df[\"transaction\"].unique()"
      ]
    }
  ],
  "metadata": {
    "kaggle": {
      "accelerator": "none",
      "dataSources": [
        {
          "datasetId": 5178748,
          "sourceId": 8646510,
          "sourceType": "datasetVersion"
        }
      ],
      "dockerImageVersionId": 30732,
      "isGpuEnabled": false,
      "isInternetEnabled": true,
      "language": "python",
      "sourceType": "notebook"
    },
    "kernelspec": {
      "display_name": "Python 3 (ipykernel)",
      "language": "python",
      "name": "python3"
    },
    "language_info": {
      "codemirror_mode": {
        "name": "ipython",
        "version": 3
      },
      "file_extension": ".py",
      "mimetype": "text/x-python",
      "name": "python",
      "nbconvert_exporter": "python",
      "pygments_lexer": "ipython3",
      "version": "3.12.1"
    },
    "colab": {
      "provenance": [],
      "include_colab_link": true
    }
  },
  "nbformat": 4,
  "nbformat_minor": 0
}