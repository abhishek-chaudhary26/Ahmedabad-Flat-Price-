{
 "cells": [
  {
   "cell_type": "code",
   "execution_count": 47,
   "metadata": {
    "_cell_guid": "b1076dfc-b9ad-4769-8c92-a6c4dae69d19",
    "_uuid": "8f2839f25d086af736a60e9eeb907d3b93b6e0e5",
    "execution": {
     "iopub.execute_input": "2024-06-24T15:11:15.366563Z",
     "iopub.status.busy": "2024-06-24T15:11:15.365915Z",
     "iopub.status.idle": "2024-06-24T15:11:15.371787Z",
     "shell.execute_reply": "2024-06-24T15:11:15.370699Z",
     "shell.execute_reply.started": "2024-06-24T15:11:15.366524Z"
    }
   },
   "outputs": [],
   "source": [
    "# importing some libs so that we can work with data easily :)\n",
    "import pandas as pd\n",
    "import numpy as np\n",
    "import seaborn as sn"
   ]
  },
  {
   "cell_type": "code",
   "execution_count": 44,
   "metadata": {
    "execution": {
     "iopub.execute_input": "2024-06-24T15:08:59.280837Z",
     "iopub.status.busy": "2024-06-24T15:08:59.280067Z",
     "iopub.status.idle": "2024-06-24T15:08:59.347224Z",
     "shell.execute_reply": "2024-06-24T15:08:59.346042Z",
     "shell.execute_reply.started": "2024-06-24T15:08:59.280800Z"
    }
   },
   "outputs": [],
   "source": [
    "# reading the csv file by using pandas :) \n",
    "df = pd.read_csv(\"/kaggle/input/ahmedabad-flat-price-dataset-uncleaned/ahmedabad.csv\")"
   ]
  },
  {
   "cell_type": "code",
   "execution_count": 46,
   "metadata": {
    "execution": {
     "iopub.execute_input": "2024-06-24T15:09:12.072614Z",
     "iopub.status.busy": "2024-06-24T15:09:12.072204Z",
     "iopub.status.idle": "2024-06-24T15:09:12.095829Z",
     "shell.execute_reply": "2024-06-24T15:09:12.094432Z",
     "shell.execute_reply.started": "2024-06-24T15:09:12.072581Z"
    }
   },
   "outputs": [
    {
     "data": {
      "text/html": [
       "<div>\n",
       "<style scoped>\n",
       "    .dataframe tbody tr th:only-of-type {\n",
       "        vertical-align: middle;\n",
       "    }\n",
       "\n",
       "    .dataframe tbody tr th {\n",
       "        vertical-align: top;\n",
       "    }\n",
       "\n",
       "    .dataframe thead th {\n",
       "        text-align: right;\n",
       "    }\n",
       "</style>\n",
       "<table border=\"1\" class=\"dataframe\">\n",
       "  <thead>\n",
       "    <tr style=\"text-align: right;\">\n",
       "      <th></th>\n",
       "      <th>Unnamed: 0</th>\n",
       "      <th>Title</th>\n",
       "      <th>type_area</th>\n",
       "      <th>value_area</th>\n",
       "      <th>status</th>\n",
       "      <th>floor</th>\n",
       "      <th>transaction</th>\n",
       "      <th>furnishing</th>\n",
       "      <th>facing</th>\n",
       "      <th>price</th>\n",
       "      <th>price_sqft</th>\n",
       "      <th>description</th>\n",
       "    </tr>\n",
       "  </thead>\n",
       "  <tbody>\n",
       "    <tr>\n",
       "      <th>0</th>\n",
       "      <td>0</td>\n",
       "      <td>2 BHK Apartment for Sale in Vivaan Aura, Zunda...</td>\n",
       "      <td>Super Area</td>\n",
       "      <td>155 sqyrd</td>\n",
       "      <td>Poss. by Dec '26</td>\n",
       "      <td>New Property</td>\n",
       "      <td>Unfurnished</td>\n",
       "      <td>Vivaan Aura</td>\n",
       "      <td>2</td>\n",
       "      <td>â‚¹48.1 Lac</td>\n",
       "      <td>â‚¹3,444 per sqft</td>\n",
       "      <td>Multistorey Apartment for Sale in Zundal, Ahme...</td>\n",
       "    </tr>\n",
       "    <tr>\n",
       "      <th>1</th>\n",
       "      <td>1</td>\n",
       "      <td>2 BHK Apartment for Sale in SP Epitome, Shela ...</td>\n",
       "      <td>Carpet Area</td>\n",
       "      <td>710 sqft</td>\n",
       "      <td>Poss. by Jun '27</td>\n",
       "      <td>New Property</td>\n",
       "      <td>Unfurnished</td>\n",
       "      <td>SP Epitome</td>\n",
       "      <td>2</td>\n",
       "      <td>â‚¹50 Lac</td>\n",
       "      <td>â‚¹3,876 per sqft</td>\n",
       "      <td>Multistorey Apartment for Sale in Shela, Ahmed...</td>\n",
       "    </tr>\n",
       "    <tr>\n",
       "      <th>2</th>\n",
       "      <td>2</td>\n",
       "      <td>2 BHK Apartment for Sale in Pacifica Amara, Sa...</td>\n",
       "      <td>Carpet Area</td>\n",
       "      <td>588 sqft</td>\n",
       "      <td>Poss. by Dec '25</td>\n",
       "      <td>New Property</td>\n",
       "      <td>Unfurnished</td>\n",
       "      <td>Pacifica Amara</td>\n",
       "      <td>2</td>\n",
       "      <td>â‚¹40 Lac</td>\n",
       "      <td>â‚¹3,738 per sqft</td>\n",
       "      <td>Multistorey Apartment for Sale in Sanand, Ahme...</td>\n",
       "    </tr>\n",
       "    <tr>\n",
       "      <th>3</th>\n",
       "      <td>3</td>\n",
       "      <td>2 BHK Apartment for Sale in Kavisha AER, Shela...</td>\n",
       "      <td>Carpet Area</td>\n",
       "      <td>687 sqft</td>\n",
       "      <td>Poss. by Jun '26</td>\n",
       "      <td>New Property</td>\n",
       "      <td>Unfurnished</td>\n",
       "      <td>Kavisha AER</td>\n",
       "      <td>2</td>\n",
       "      <td>â‚¹48.8 Lac</td>\n",
       "      <td>â‚¹3,900 per sqft</td>\n",
       "      <td>Multistorey Apartment for Sale in Shela, Ahmed...</td>\n",
       "    </tr>\n",
       "    <tr>\n",
       "      <th>4</th>\n",
       "      <td>4</td>\n",
       "      <td>2 BHK Apartment for Sale in Aarambh Vistara, G...</td>\n",
       "      <td>Carpet Area</td>\n",
       "      <td>621 sqft</td>\n",
       "      <td>Poss. by Mar '25</td>\n",
       "      <td>New Property</td>\n",
       "      <td>Unfurnished</td>\n",
       "      <td>Aarambh Vistara</td>\n",
       "      <td>2</td>\n",
       "      <td>â‚¹48 Lac</td>\n",
       "      <td>â‚¹4,248 per sqft</td>\n",
       "      <td>Multistorey Apartment for Sale in Gota, Ahmeda...</td>\n",
       "    </tr>\n",
       "    <tr>\n",
       "      <th>5</th>\n",
       "      <td>5</td>\n",
       "      <td>2 BHK Apartment for Sale in Vivaan Essence, Zu...</td>\n",
       "      <td>Super Area</td>\n",
       "      <td>1413 sqft</td>\n",
       "      <td>Poss. by Jun '26</td>\n",
       "      <td>New Property</td>\n",
       "      <td>Unfurnished</td>\n",
       "      <td>Vivaan Essence</td>\n",
       "      <td>1 Covered</td>\n",
       "      <td>â‚¹49.9 Lac</td>\n",
       "      <td>â‚¹3,533 per sqft</td>\n",
       "      <td>NaN</td>\n",
       "    </tr>\n",
       "    <tr>\n",
       "      <th>6</th>\n",
       "      <td>6</td>\n",
       "      <td>2 BHK Apartment for Sale in Kavisha AER, Shela...</td>\n",
       "      <td>Carpet Area</td>\n",
       "      <td>700 sqft</td>\n",
       "      <td>Poss. by Dec '25</td>\n",
       "      <td>7 out of 14</td>\n",
       "      <td>New Property</td>\n",
       "      <td>Unfurnished</td>\n",
       "      <td>East</td>\n",
       "      <td>â‚¹49.1 Lac</td>\n",
       "      <td>â‚¹3,900 per sqft</td>\n",
       "      <td>Prime Location in Shela, Nice Locality  Easily...</td>\n",
       "    </tr>\n",
       "    <tr>\n",
       "      <th>7</th>\n",
       "      <td>7</td>\n",
       "      <td>2 BHK Apartment for Sale in Vivaan Aura, Zunda...</td>\n",
       "      <td>Carpet Area</td>\n",
       "      <td>85 sqyrd</td>\n",
       "      <td>Poss. by Jun '26</td>\n",
       "      <td>11 out of 14</td>\n",
       "      <td>New Property</td>\n",
       "      <td>Unfurnished</td>\n",
       "      <td>East</td>\n",
       "      <td>â‚¹48.4 Lac</td>\n",
       "      <td>â‚¹3,444 per sqft</td>\n",
       "      <td>To gain an overview of the house structure, it...</td>\n",
       "    </tr>\n",
       "    <tr>\n",
       "      <th>8</th>\n",
       "      <td>8</td>\n",
       "      <td>2 BHK Apartment for Sale in Kavisha Atria, She...</td>\n",
       "      <td>Carpet Area</td>\n",
       "      <td>655 sqft</td>\n",
       "      <td>Poss. by Jul '24</td>\n",
       "      <td>New Property</td>\n",
       "      <td>Unfurnished</td>\n",
       "      <td>North - East</td>\n",
       "      <td>Garden/Park</td>\n",
       "      <td>â‚¹45.2 Lac</td>\n",
       "      <td>â‚¹4,000 per sqft</td>\n",
       "      <td>Kavisha Atrias Architectural design effortless...</td>\n",
       "    </tr>\n",
       "    <tr>\n",
       "      <th>9</th>\n",
       "      <td>9</td>\n",
       "      <td>2 BHK Apartment for Sale in Sun Parkwest, Shel...</td>\n",
       "      <td>Carpet Area</td>\n",
       "      <td>676 sqft</td>\n",
       "      <td>Poss. by Jul '26</td>\n",
       "      <td>5 out of 14</td>\n",
       "      <td>New Property</td>\n",
       "      <td>Unfurnished</td>\n",
       "      <td>East</td>\n",
       "      <td>â‚¹42.6 Lac</td>\n",
       "      <td>â‚¹3,300 per sqft</td>\n",
       "      <td>Sun Parkwest is a well designed project by Sun...</td>\n",
       "    </tr>\n",
       "  </tbody>\n",
       "</table>\n",
       "</div>"
      ],
      "text/plain": [
       "   Unnamed: 0                                              Title    type_area  \\\n",
       "0           0  2 BHK Apartment for Sale in Vivaan Aura, Zunda...   Super Area   \n",
       "1           1  2 BHK Apartment for Sale in SP Epitome, Shela ...  Carpet Area   \n",
       "2           2  2 BHK Apartment for Sale in Pacifica Amara, Sa...  Carpet Area   \n",
       "3           3  2 BHK Apartment for Sale in Kavisha AER, Shela...  Carpet Area   \n",
       "4           4  2 BHK Apartment for Sale in Aarambh Vistara, G...  Carpet Area   \n",
       "5           5  2 BHK Apartment for Sale in Vivaan Essence, Zu...   Super Area   \n",
       "6           6  2 BHK Apartment for Sale in Kavisha AER, Shela...  Carpet Area   \n",
       "7           7  2 BHK Apartment for Sale in Vivaan Aura, Zunda...  Carpet Area   \n",
       "8           8  2 BHK Apartment for Sale in Kavisha Atria, She...  Carpet Area   \n",
       "9           9  2 BHK Apartment for Sale in Sun Parkwest, Shel...  Carpet Area   \n",
       "\n",
       "  value_area            status         floor   transaction       furnishing  \\\n",
       "0  155 sqyrd  Poss. by Dec '26  New Property   Unfurnished      Vivaan Aura   \n",
       "1   710 sqft  Poss. by Jun '27  New Property   Unfurnished       SP Epitome   \n",
       "2   588 sqft  Poss. by Dec '25  New Property   Unfurnished   Pacifica Amara   \n",
       "3   687 sqft  Poss. by Jun '26  New Property   Unfurnished      Kavisha AER   \n",
       "4   621 sqft  Poss. by Mar '25  New Property   Unfurnished  Aarambh Vistara   \n",
       "5  1413 sqft  Poss. by Jun '26  New Property   Unfurnished   Vivaan Essence   \n",
       "6   700 sqft  Poss. by Dec '25   7 out of 14  New Property      Unfurnished   \n",
       "7   85 sqyrd  Poss. by Jun '26  11 out of 14  New Property      Unfurnished   \n",
       "8   655 sqft  Poss. by Jul '24  New Property   Unfurnished     North - East   \n",
       "9   676 sqft  Poss. by Jul '26   5 out of 14  New Property      Unfurnished   \n",
       "\n",
       "        facing         price          price_sqft  \\\n",
       "0            2  â‚¹48.1 Lac   â‚¹3,444 per sqft    \n",
       "1            2    â‚¹50 Lac   â‚¹3,876 per sqft    \n",
       "2            2    â‚¹40 Lac   â‚¹3,738 per sqft    \n",
       "3            2  â‚¹48.8 Lac   â‚¹3,900 per sqft    \n",
       "4            2    â‚¹48 Lac   â‚¹4,248 per sqft    \n",
       "5    1 Covered  â‚¹49.9 Lac   â‚¹3,533 per sqft    \n",
       "6         East  â‚¹49.1 Lac   â‚¹3,900 per sqft    \n",
       "7         East  â‚¹48.4 Lac   â‚¹3,444 per sqft    \n",
       "8  Garden/Park  â‚¹45.2 Lac   â‚¹4,000 per sqft    \n",
       "9         East  â‚¹42.6 Lac   â‚¹3,300 per sqft    \n",
       "\n",
       "                                         description  \n",
       "0  Multistorey Apartment for Sale in Zundal, Ahme...  \n",
       "1  Multistorey Apartment for Sale in Shela, Ahmed...  \n",
       "2  Multistorey Apartment for Sale in Sanand, Ahme...  \n",
       "3  Multistorey Apartment for Sale in Shela, Ahmed...  \n",
       "4  Multistorey Apartment for Sale in Gota, Ahmeda...  \n",
       "5                                                NaN  \n",
       "6  Prime Location in Shela, Nice Locality  Easily...  \n",
       "7  To gain an overview of the house structure, it...  \n",
       "8  Kavisha Atrias Architectural design effortless...  \n",
       "9  Sun Parkwest is a well designed project by Sun...  "
      ]
     },
     "execution_count": 46,
     "metadata": {},
     "output_type": "execute_result"
    }
   ],
   "source": [
    "# quick look into the data-set :)\n",
    "df.head(10)"
   ]
  },
  {
   "cell_type": "code",
   "execution_count": 49,
   "metadata": {
    "execution": {
     "iopub.execute_input": "2024-06-24T15:12:04.084682Z",
     "iopub.status.busy": "2024-06-24T15:12:04.084279Z",
     "iopub.status.idle": "2024-06-24T15:12:04.090886Z",
     "shell.execute_reply": "2024-06-24T15:12:04.089572Z",
     "shell.execute_reply.started": "2024-06-24T15:12:04.084651Z"
    }
   },
   "outputs": [
    {
     "name": "stdout",
     "output_type": "stream",
     "text": [
      "This data-set has 6853 rows and 12 columns\n"
     ]
    }
   ],
   "source": [
    "# it is to check the no of rows and columns in the data-set :)\n",
    "x = df.shape\n",
    "print('This data-set has', x[0] , \"rows\" , 'and' ,x[-1] , \"columns\")"
   ]
  },
  {
   "cell_type": "code",
   "execution_count": 54,
   "metadata": {
    "execution": {
     "iopub.execute_input": "2024-06-24T15:17:50.751135Z",
     "iopub.status.busy": "2024-06-24T15:17:50.750748Z",
     "iopub.status.idle": "2024-06-24T15:17:50.757482Z",
     "shell.execute_reply": "2024-06-24T15:17:50.756331Z",
     "shell.execute_reply.started": "2024-06-24T15:17:50.751103Z"
    }
   },
   "outputs": [
    {
     "name": "stdout",
     "output_type": "stream",
     "text": [
      "data type of the data present in the columns are give below\n",
      "\n",
      "Unnamed: 0      int64\n",
      "Title          object\n",
      "type_area      object\n",
      "value_area     object\n",
      "status         object\n",
      "floor          object\n",
      "transaction    object\n",
      "furnishing     object\n",
      "facing         object\n",
      "price          object\n",
      "price_sqft     object\n",
      "description    object\n",
      "dtype: object\n"
     ]
    }
   ],
   "source": [
    "# we can also need to check data type so there are some couple of ways for it w'll use .dtype method for now\n",
    "print('data type of the data present in the columns are give below')\n",
    "print('')\n",
    "print(df.dtypes)"
   ]
  },
  {
   "cell_type": "code",
   "execution_count": null,
   "metadata": {},
   "outputs": [],
   "source": [
    "# now first let me delete one row which look useless :)\n"
   ]
  },
  {
   "cell_type": "code",
   "execution_count": 61,
   "metadata": {
    "execution": {
     "iopub.execute_input": "2024-06-24T15:22:01.026210Z",
     "iopub.status.busy": "2024-06-24T15:22:01.025110Z",
     "iopub.status.idle": "2024-06-24T15:22:01.036228Z",
     "shell.execute_reply": "2024-06-24T15:22:01.035023Z",
     "shell.execute_reply.started": "2024-06-24T15:22:01.026167Z"
    }
   },
   "outputs": [
    {
     "data": {
      "text/plain": [
       "<bound method Series.unique of 0       2 BHK Apartment for Sale in Vivaan Aura, Zunda...\n",
       "1       2 BHK Apartment for Sale in SP Epitome, Shela ...\n",
       "2       2 BHK Apartment for Sale in Pacifica Amara, Sa...\n",
       "3       2 BHK Apartment for Sale in Kavisha AER, Shela...\n",
       "4       2 BHK Apartment for Sale in Aarambh Vistara, G...\n",
       "                              ...                        \n",
       "6848    4 BHK Apartment for Sale in Skydeck Seasons, T...\n",
       "6849    4 BHK Apartment for Sale in TIMES 104, Gulmoha...\n",
       "6850    4 BHK Apartment for Sale in Westlands, Ambli A...\n",
       "6851    4 BHK Apartment for Sale in Sarkhej Gandhinaga...\n",
       "6852    5 BHK Apartment for Sale in Venus Pashmina, Bo...\n",
       "Name: Title, Length: 6853, dtype: object>"
      ]
     },
     "execution_count": 61,
     "metadata": {},
     "output_type": "execute_result"
    }
   ],
   "source": [
    "# lets see all the unique values present in the data-set\n"
   ]
  },
  {
   "cell_type": "code",
   "execution_count": 31,
   "metadata": {
    "execution": {
     "iopub.execute_input": "2024-06-24T15:02:21.661122Z",
     "iopub.status.busy": "2024-06-24T15:02:21.660730Z",
     "iopub.status.idle": "2024-06-24T15:02:21.672882Z",
     "shell.execute_reply": "2024-06-24T15:02:21.671855Z",
     "shell.execute_reply.started": "2024-06-24T15:02:21.661087Z"
    }
   },
   "outputs": [
    {
     "name": "stdout",
     "output_type": "stream",
     "text": [
      "missing values in data-set in '%'\n",
      "\n",
      "Unnamed: 0      0.000000\n",
      "Title           0.000000\n",
      "type_area       0.000000\n",
      "value_area      0.000000\n",
      "status          0.000000\n",
      "floor           0.116737\n",
      "transaction     0.306435\n",
      "furnishing      0.539910\n",
      "facing          1.298701\n",
      "price           0.000000\n",
      "price_sqft      6.537283\n",
      "description    25.769736\n",
      "dtype: float64\n"
     ]
    }
   ],
   "source": [
    "# missing values :)\n",
    "print(\"missing values in data-set in '%'\")\n",
    "print(\"\")\n",
    "print((df.isnull().mean())*100)"
   ]
  },
  {
   "cell_type": "code",
   "execution_count": 33,
   "metadata": {
    "execution": {
     "iopub.execute_input": "2024-06-24T15:03:57.442460Z",
     "iopub.status.busy": "2024-06-24T15:03:57.442056Z",
     "iopub.status.idle": "2024-06-24T15:03:57.449631Z",
     "shell.execute_reply": "2024-06-24T15:03:57.448511Z",
     "shell.execute_reply.started": "2024-06-24T15:03:57.442428Z"
    }
   },
   "outputs": [
    {
     "data": {
      "text/plain": [
       "['Unnamed: 0',\n",
       " 'Title',\n",
       " 'type_area',\n",
       " 'value_area',\n",
       " 'status',\n",
       " 'floor',\n",
       " 'transaction',\n",
       " 'furnishing',\n",
       " 'facing',\n",
       " 'price',\n",
       " 'price_sqft',\n",
       " 'description']"
      ]
     },
     "execution_count": 33,
     "metadata": {},
     "output_type": "execute_result"
    }
   ],
   "source": [
    "# not so important but still if you want you can try storing name of fetaures in variable for record :)\n",
    "\n",
    "columns = list(df.columns)\n",
    "columns"
   ]
  },
  {
   "cell_type": "code",
   "execution_count": null,
   "metadata": {},
   "outputs": [],
   "source": [
    "df.info()"
   ]
  },
  {
   "cell_type": "code",
   "execution_count": null,
   "metadata": {},
   "outputs": [],
   "source": []
  },
  {
   "cell_type": "code",
   "execution_count": null,
   "metadata": {},
   "outputs": [],
   "source": [
    "df[\"transaction\"].unique()"
   ]
  }
 ],
 "metadata": {
  "kaggle": {
   "accelerator": "none",
   "dataSources": [
    {
     "datasetId": 5178748,
     "sourceId": 8646510,
     "sourceType": "datasetVersion"
    }
   ],
   "dockerImageVersionId": 30732,
   "isGpuEnabled": false,
   "isInternetEnabled": true,
   "language": "python",
   "sourceType": "notebook"
  },
  "kernelspec": {
   "display_name": "Python 3 (ipykernel)",
   "language": "python",
   "name": "python3"
  },
  "language_info": {
   "codemirror_mode": {
    "name": "ipython",
    "version": 3
   },
   "file_extension": ".py",
   "mimetype": "text/x-python",
   "name": "python",
   "nbconvert_exporter": "python",
   "pygments_lexer": "ipython3",
   "version": "3.12.1"
  }
 },
 "nbformat": 4,
 "nbformat_minor": 4
}
